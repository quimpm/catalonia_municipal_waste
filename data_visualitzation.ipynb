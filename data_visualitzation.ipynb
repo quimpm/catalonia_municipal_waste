{
 "cells": [
  {
   "cell_type": "markdown",
   "id": "85ba67e1",
   "metadata": {},
   "source": [
    "# Estudi Residus Municipals Catalunya \n",
    "## Data Cleaning\n",
    "\n",
    "### Descripció\n",
    "En aquest seguit de llibretes es recull l'estudi realitzat sobre el dataset de residus municipals a Catalunya publicat per la generalitat al portal de dades obertes. La intenció es investigar aquestes dades amb la fi de trobar conclusions interessants i possibles aplicacions.\n",
    "\n",
    "En aquesta llibreta en concret, es visualitzen les dades un cop ja netejades i enrriquides.\n",
    "\n",
    "### Autors\n",
    "Joaquim Picó Mora, Marc Felip Pomes"
   ]
  },
  {
   "cell_type": "code",
   "execution_count": 1,
   "id": "e95d2a24",
   "metadata": {},
   "outputs": [],
   "source": [
    "import pandas as pd"
   ]
  },
  {
   "cell_type": "markdown",
   "id": "1a1079e6",
   "metadata": {},
   "source": [
    "### Llista de grafiques interessants\n",
    "- Mapa diferent tipus de residu acumulat per comarques (separat per any)\n",
    "- Mapa diferent tipus de residu per municipi scatter/heatmap (separat per any)\n",
    "- Regressió lineal total catalunya diferent tipus de residu en funció de temps\n",
    "    - Pot servir per mirar si anem a millor o a pitjor\n",
    "- Regressió lineal total comarca diferent tipus de ressidu en funció de temps\n",
    "    - Pot servir per mirar si anem a millor o a pitjor però més granulat per comarca\n",
    "- Regressió lineal total catalunya kg's total de residus en funcio del temps\n",
    "    - En termes mes generals veiem si generem mes residus\n",
    "- Regressió lineal total catalunya kg's total de residus en funció de temps\n",
    "    - En termes mes generals veiem si generem mes residus per coamrca\n",
    "- Grafic habitants Catalunya\n",
    "- Grafic habitants per comarques\n",
    "- Grafic kg/hab any municipi\n",
    "- Grafic kg/hab any comarca\n",
    "- Grafic kg/hab dia municipi\n",
    "- Grafic kg/hab dia comarca"
   ]
  },
  {
   "cell_type": "code",
   "execution_count": 2,
   "id": "83650f2a",
   "metadata": {},
   "outputs": [
    {
     "name": "stdout",
     "output_type": "stream",
     "text": [
      "<class 'pandas.core.frame.DataFrame'>\n",
      "RangeIndex: 18947 entries, 0 to 18946\n",
      "Data columns (total 33 columns):\n",
      " #   Column                                         Non-Null Count  Dtype  \n",
      "---  ------                                         --------------  -----  \n",
      " 0   Any                                            18947 non-null  int64  \n",
      " 1   Codi municipi                                  18927 non-null  float64\n",
      " 2   Municipi                                       18946 non-null  object \n",
      " 3   Comarca                                        18927 non-null  object \n",
      " 4   Població                                       18947 non-null  float64\n",
      " 5   Autocompostatge                                7583 non-null   float64\n",
      " 6   Matèria orgànica                               18947 non-null  float64\n",
      " 7   Poda i jardineria                              18947 non-null  float64\n",
      " 8   Paper i cartró                                 18947 non-null  float64\n",
      " 9   Vidre                                          18947 non-null  float64\n",
      " 10  Envasos lleugers                               18947 non-null  float64\n",
      " 11  Residus voluminosos + fusta                    18947 non-null  float64\n",
      " 12  RAEE                                           9477 non-null   float64\n",
      " 13  Ferralla                                       7583 non-null   float64\n",
      " 14  Olis vegetals                                  7583 non-null   float64\n",
      " 15  Tèxtil                                         17053 non-null  float64\n",
      " 16  Runes                                          8530 non-null   float64\n",
      " 17  Residus Especials en petites quantitats (REPQ  8530 non-null   float64\n",
      " 18  Piles                                          18939 non-null  float64\n",
      " 19  Medicaments                                    18939 non-null  float64\n",
      " 20  Altres recollides selectives                   18941 non-null  float64\n",
      " 21  Total Recollida Selectiva                      18947 non-null  float64\n",
      " 22  R.S. / R.M. % total                            18947 non-null  float64\n",
      " 23  Kg/hab/any recollida selectiva                 18947 non-null  float64\n",
      " 24  Resta a Dipòsit                                15159 non-null  float64\n",
      " 25  Resta a Incineració                            15159 non-null  float64\n",
      " 26  Resta a Tractament Mecànic Biològic            15159 non-null  float64\n",
      " 27  Resta (sense desglossar)                       3788 non-null   float64\n",
      " 28  Suma Fracció Resta                             18947 non-null  float64\n",
      " 29  F.R. / R.M. %                                  18947 non-null  float64\n",
      " 30  Generació Residus Municipal Totals             18947 non-null  float64\n",
      " 31  Kg / hab / dia                                 18947 non-null  float64\n",
      " 32  Kg / hab / any                                 18947 non-null  float64\n",
      "dtypes: float64(30), int64(1), object(2)\n",
      "memory usage: 4.8+ MB\n"
     ]
    }
   ],
   "source": [
    "waste_file = \"./datasets/Estad_stiques_de_residus_municipals.csv\"\n",
    "df = pd.read_csv(waste_file)\n",
    "df.info()"
   ]
  }
 ],
 "metadata": {
  "kernelspec": {
   "display_name": "Python 3 (ipykernel)",
   "language": "python",
   "name": "python3"
  },
  "language_info": {
   "codemirror_mode": {
    "name": "ipython",
    "version": 3
   },
   "file_extension": ".py",
   "mimetype": "text/x-python",
   "name": "python",
   "nbconvert_exporter": "python",
   "pygments_lexer": "ipython3",
   "version": "3.10.4"
  }
 },
 "nbformat": 4,
 "nbformat_minor": 5
}
