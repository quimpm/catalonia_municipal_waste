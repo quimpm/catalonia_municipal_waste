{
 "cells": [
  {
   "cell_type": "markdown",
   "id": "52851ab2",
   "metadata": {},
   "source": [
    "# Estudi Residus Municipals Catalunya \n",
    "## Data Cleaning\n",
    "\n",
    "### Descripció\n",
    "En aquest seguit de llibretes es recull l'estudi realitzat sobre el dataset de residus municipals a Catalunya publicat per la generalitat al portal de dades obertes. La intenció es investigar aquestes dades amb la fi de trobar conclusions interessants i possibles aplicacions.\n",
    "\n",
    "En aquesta llibreta en concret es netegen les dades del dataset [Municipis Catalunya Geo](https://analisi.transparenciacatalunya.cat/Urbanisme-infraestructures/Municipis-Catalunya-Geo/9aju-tpwc) per a posteriorment ser enrriquides amb valors geografics i posteriorment realitzar un estudi sobre el territori que conforma Catalunya a nivell municipal.\n",
    "\n",
    "### Autors\n",
    "Joaquim Picó Mora, Marc Felip Pomes"
   ]
  },
  {
   "cell_type": "code",
   "execution_count": 3,
   "id": "3fa02716",
   "metadata": {},
   "outputs": [],
   "source": [
    "import pandas as pd\n",
    "from pyspark.sql import SparkSession\n",
    "import pyspark.sql.functions as f"
   ]
  },
  {
   "cell_type": "markdown",
   "id": "a048b124",
   "metadata": {},
   "source": [
    "### Lista de les primeres idees de cleening\n",
    "- Molts nulls: Es pot deixar perque al final només volem visualitzar o es poden ficar a 0\n",
    "    - Autocompostatge \n",
    "    - RAEE = Residus d'aparells electronics\n",
    "    - Ferralla\n",
    "    - Olis vegetals\n",
    "    - Runes\n",
    "    - Residus especials en petites quantitats\n",
    "- Resta\n",
    "    - Agrupar (Resta a Diposit + Resta a Incineració + Resta a tractament Mecànic Biològic) -> Resta (sense desglosar) "
   ]
  },
  {
   "cell_type": "code",
   "execution_count": 4,
   "id": "5cbd2fe0",
   "metadata": {},
   "outputs": [
    {
     "name": "stderr",
     "output_type": "stream",
     "text": [
      "WARNING: An illegal reflective access operation has occurred\n",
      "WARNING: Illegal reflective access by org.apache.spark.unsafe.Platform (file:/home/quim/.local/lib/python3.10/site-packages/pyspark/jars/spark-unsafe_2.12-3.2.1.jar) to constructor java.nio.DirectByteBuffer(long,int)\n",
      "WARNING: Please consider reporting this to the maintainers of org.apache.spark.unsafe.Platform\n",
      "WARNING: Use --illegal-access=warn to enable warnings of further illegal reflective access operations\n",
      "WARNING: All illegal access operations will be denied in a future release\n",
      "Using Spark's default log4j profile: org/apache/spark/log4j-defaults.properties\n",
      "Setting default log level to \"WARN\".\n",
      "To adjust logging level use sc.setLogLevel(newLevel). For SparkR, use setLogLevel(newLevel).\n",
      "22/05/22 07:59:41 WARN NativeCodeLoader: Unable to load native-hadoop library for your platform... using builtin-java classes where applicable\n"
     ]
    }
   ],
   "source": [
    "spark = (SparkSession\n",
    " .builder\n",
    " .appName(\"WasteCleaning\")\n",
    " .getOrCreate())"
   ]
  },
  {
   "cell_type": "code",
   "execution_count": 5,
   "id": "1b10b0c1",
   "metadata": {},
   "outputs": [],
   "source": [
    "spark.conf.set(\"spark.sql.repl.eagerEval.enabled\", True)"
   ]
  },
  {
   "cell_type": "code",
   "execution_count": 10,
   "id": "cfa51a34",
   "metadata": {},
   "outputs": [
    {
     "name": "stdout",
     "output_type": "stream",
     "text": [
      "-RECORD 0-----------------------------------------------------------\n",
      " Latitud                                       | null               \n",
      " Longitud                                      | null               \n",
      " geometry                                      | geometry           \n",
      " Any                                           | null               \n",
      " Codi municipi                                 | Codi municipi      \n",
      " Municipi                                      | Municipi           \n",
      " Comarca                                       | Comarca            \n",
      " Població                                      | null               \n",
      " Autocompostatge                               | null               \n",
      " Matèria orgànica                              | null               \n",
      " Poda i jardineria                             | null               \n",
      " Paper i cartró                                | null               \n",
      " Vidre                                         | null               \n",
      " Envasos lleugers                              | null               \n",
      " Residus voluminosos + fusta                   | null               \n",
      " RAEE                                          | null               \n",
      " Ferralla                                      | null               \n",
      " Olis vegetals                                 | null               \n",
      " Tèxtil                                        | null               \n",
      " Runes                                         | null               \n",
      " Residus Especials en petites quantitats (REPQ | null               \n",
      " Piles                                         | null               \n",
      " Medicaments                                   | null               \n",
      " Altres recollides selectives                  | null               \n",
      " R.S. / R.M. % total                           | null               \n",
      " Kg/hab/any recollida selectiva                | null               \n",
      " Resta a Dipòsit                               | null               \n",
      " Resta a Incineració                           | null               \n",
      " Resta a Tractament Mecànic Biològic           | null               \n",
      " Resta (sense desglossar)                      | null               \n",
      " Suma Fracció Resta                            | null               \n",
      " F.R. / R.M. %                                 | null               \n",
      " Generació Residus Municipal Totals            | null               \n",
      " Kg / hab / dia                                | null               \n",
      " Kg / hab / any                                | null               \n",
      "-RECORD 1-----------------------------------------------------------\n",
      " Latitud                                       | 0.0                \n",
      " Longitud                                      | 1.091706           \n",
      " geometry                                      | 42.1612871         \n",
      " Any                                           | null               \n",
      " Codi municipi                                 | 2000               \n",
      " Municipi                                      | 250019.0           \n",
      " Comarca                                       | Abella de la Conca \n",
      " Població                                      | null               \n",
      " Autocompostatge                               | 186.0              \n",
      " Matèria orgànica                              | null               \n",
      " Poda i jardineria                             | 0.0                \n",
      " Paper i cartró                                | 0.01               \n",
      " Vidre                                         | 6.16               \n",
      " Envasos lleugers                              | 6.32               \n",
      " Residus voluminosos + fusta                   | 0.6                \n",
      " RAEE                                          | 1.19               \n",
      " Ferralla                                      | null               \n",
      " Olis vegetals                                 | null               \n",
      " Tèxtil                                        | null               \n",
      " Runes                                         | null               \n",
      " Residus Especials en petites quantitats (REPQ | null               \n",
      " Piles                                         | null               \n",
      " Medicaments                                   | 1.0                \n",
      " Altres recollides selectives                  | 1.0                \n",
      " R.S. / R.M. % total                           | 5.0                \n",
      " Kg/hab/any recollida selectiva                | 14.79              \n",
      " Resta a Dipòsit                               | 13.65              \n",
      " Resta a Incineració                           | 79.53              \n",
      " Resta a Tractament Mecànic Biològic           | null               \n",
      " Resta (sense desglossar)                      | null               \n",
      " Suma Fracció Resta                            | null               \n",
      " F.R. / R.M. %                                 | 9359.0             \n",
      " Generació Residus Municipal Totals            | 93.59              \n",
      " Kg / hab / dia                                | 86.35              \n",
      " Kg / hab / any                                | 108.38             \n",
      "-RECORD 2-----------------------------------------------------------\n",
      " Latitud                                       | 1.0                \n",
      " Longitud                                      | 1.091706           \n",
      " geometry                                      | 42.1612871         \n",
      " Any                                           | null               \n",
      " Codi municipi                                 | 2001               \n",
      " Municipi                                      | 250019.0           \n",
      " Comarca                                       | Abella de la Conca \n",
      " Població                                      | null               \n",
      " Autocompostatge                               | 186.0              \n",
      " Matèria orgànica                              | null               \n",
      " Poda i jardineria                             | 0.0                \n",
      " Paper i cartró                                | 0.21               \n",
      " Vidre                                         | 3.4                \n",
      " Envasos lleugers                              | 4.96               \n",
      " Residus voluminosos + fusta                   | 0.57               \n",
      " RAEE                                          | 1.6                \n",
      " Ferralla                                      | null               \n",
      " Olis vegetals                                 | null               \n",
      " Tèxtil                                        | null               \n",
      " Runes                                         | null               \n",
      " Residus Especials en petites quantitats (REPQ | null               \n",
      " Piles                                         | null               \n",
      " Medicaments                                   | 1.0                \n",
      " Altres recollides selectives                  | 1.0                \n",
      " R.S. / R.M. % total                           | 122.0              \n",
      " Kg/hab/any recollida selectiva                | 11.98              \n",
      " Resta a Dipòsit                               | 15.14              \n",
      " Resta a Incineració                           | 64.42              \n",
      " Resta a Tractament Mecànic Biològic           | null               \n",
      " Resta (sense desglossar)                      | null               \n",
      " Suma Fracció Resta                            | null               \n",
      " F.R. / R.M. %                                 | 6718.0             \n",
      " Generació Residus Municipal Totals            | 67.18              \n",
      " Kg / hab / dia                                | 84.86              \n",
      " Kg / hab / any                                | 79.16              \n",
      "-RECORD 3-----------------------------------------------------------\n",
      " Latitud                                       | 2.0                \n",
      " Longitud                                      | 1.091706           \n",
      " geometry                                      | 42.1612871         \n",
      " Any                                           | null               \n",
      " Codi municipi                                 | 2002               \n",
      " Municipi                                      | 250019.0           \n",
      " Comarca                                       | Abella de la Conca \n",
      " Població                                      | null               \n",
      " Autocompostatge                               | 179.0              \n",
      " Matèria orgànica                              | null               \n",
      " Poda i jardineria                             | 0.0                \n",
      " Paper i cartró                                | 0.26               \n",
      " Vidre                                         | 5.21               \n",
      " Envasos lleugers                              | 4.02               \n",
      " Residus voluminosos + fusta                   | 0.64               \n",
      " RAEE                                          | 4.67               \n",
      " Ferralla                                      | null               \n",
      " Olis vegetals                                 | null               \n",
      " Tèxtil                                        | null               \n",
      " Runes                                         | 3.0                \n",
      " Residus Especials en petites quantitats (REPQ | null               \n",
      " Piles                                         | null               \n",
      " Medicaments                                   | 1.0                \n",
      " Altres recollides selectives                  | 1.0                \n",
      " R.S. / R.M. % total                           | 188.0              \n",
      " Kg/hab/any recollida selectiva                | 16.73              \n",
      " Resta a Dipòsit                               | 19.33              \n",
      " Resta a Incineració                           | 93.48              \n",
      " Resta a Tractament Mecànic Biològic           | null               \n",
      " Resta (sense desglossar)                      | null               \n",
      " Suma Fracció Resta                            | null               \n",
      " F.R. / R.M. %                                 | 6982.0             \n",
      " Generació Residus Municipal Totals            | 69.82              \n",
      " Kg / hab / dia                                | 80.67              \n",
      " Kg / hab / any                                | 86.55              \n",
      "-RECORD 4-----------------------------------------------------------\n",
      " Latitud                                       | 3.0                \n",
      " Longitud                                      | 1.091706           \n",
      " geometry                                      | 42.1612871         \n",
      " Any                                           | null               \n",
      " Codi municipi                                 | 2003               \n",
      " Municipi                                      | 250019.0           \n",
      " Comarca                                       | Abella de la Conca \n",
      " Població                                      | null               \n",
      " Autocompostatge                               | 183.0              \n",
      " Matèria orgànica                              | null               \n",
      " Poda i jardineria                             | 0.0                \n",
      " Paper i cartró                                | 0.24               \n",
      " Vidre                                         | 6.71               \n",
      " Envasos lleugers                              | 1.27               \n",
      " Residus voluminosos + fusta                   | 0.91               \n",
      " RAEE                                          | 4.46               \n",
      " Ferralla                                      | null               \n",
      " Olis vegetals                                 | null               \n",
      " Tèxtil                                        | null               \n",
      " Runes                                         | 2.0                \n",
      " Residus Especials en petites quantitats (REPQ | null               \n",
      " Piles                                         | null               \n",
      " Medicaments                                   | 1.0                \n",
      " Altres recollides selectives                  | 1.0                \n",
      " R.S. / R.M. % total                           | 6.0                \n",
      " Kg/hab/any recollida selectiva                | 14.23              \n",
      " Resta a Dipòsit                               | 17.58              \n",
      " Resta a Incineració                           | 77.78              \n",
      " Resta a Tractament Mecànic Biològic           | null               \n",
      " Resta (sense desglossar)                      | null               \n",
      " Suma Fracció Resta                            | null               \n",
      " F.R. / R.M. %                                 | 6671.0             \n",
      " Generació Residus Municipal Totals            | 66.71              \n",
      " Kg / hab / dia                                | 82.42              \n",
      " Kg / hab / any                                | 80.95              \n",
      "only showing top 5 rows\n",
      "\n"
     ]
    }
   ],
   "source": [
    "waste_file = \"./datasets/enriched/residus_municipi_geo.csv\"\n",
    "schema_df = \"`Latitud` FLOAT,\\\n",
    "            `Longitud` FLOAT,\\\n",
    "            `geometry` STRING,\\\n",
    "            `Any` INT,\\\n",
    "            `Codi municipi` STRING,\\\n",
    "            `Municipi` STRING,\\\n",
    "            `Comarca` STRING,\\\n",
    "            `Població` FLOAT,\\\n",
    "            `Autocompostatge` FLOAT,\\\n",
    "            `Matèria orgànica` FLOAT,\\\n",
    "            `Poda i jardineria` FLOAT,\\\n",
    "            `Paper i cartró` FLOAT,\\\n",
    "            `Vidre` FLOAT,\\\n",
    "            `Envasos lleugers` FLOAT,\\\n",
    "            `Residus voluminosos + fusta` FLOAT,\\\n",
    "            `RAEE` FLOAT,\\\n",
    "            `Ferralla` FLOAT,\\\n",
    "            `Olis vegetals` FLOAT,\\\n",
    "            `Tèxtil` FLOAT,\\\n",
    "            `Runes` FLOAT,\\\n",
    "            `Residus Especials en petites quantitats (REPQ` FLOAT,\\\n",
    "            `Piles` FLOAT,\\\n",
    "            `Medicaments` FLOAT,\\\n",
    "            `Altres recollides selectives` FLOAT,\\\n",
    "            `R.S. / R.M. % total` FLOAT,\\\n",
    "            `Kg/hab/any recollida selectiva` FLOAT,\\\n",
    "            `Resta a Dipòsit` FLOAT,\\\n",
    "            `Resta a Incineració` FLOAT,\\\n",
    "            `Resta a Tractament Mecànic Biològic` FLOAT,\\\n",
    "            `Resta (sense desglossar)` FLOAT,\\\n",
    "            `Suma Fracció Resta` FLOAT,\\\n",
    "            `F.R. / R.M. %` FLOAT,\\\n",
    "            `Generació Residus Municipal Totals` FLOAT,\\\n",
    "            `Kg / hab / dia` FLOAT,\\\n",
    "            `Kg / hab / any` FLOAT\"\n",
    "df = spark.read.schema(schema_df).csv(waste_file)\n",
    "df.show(n=5, truncate=False, vertical=True)"
   ]
  },
  {
   "cell_type": "code",
   "execution_count": 9,
   "id": "905c5081",
   "metadata": {
    "scrolled": false
   },
   "outputs": [
    {
     "name": "stderr",
     "output_type": "stream",
     "text": [
      "                                                                                \r"
     ]
    },
    {
     "data": {
      "text/html": [
       "<table border='1'>\n",
       "<tr><th>summary</th><th>_c0</th><th>_c1</th><th>_c2</th><th>_c3</th><th>_c4</th><th>_c5</th><th>_c6</th><th>_c7</th><th>_c8</th><th>_c9</th><th>_c10</th><th>_c11</th><th>_c12</th><th>_c13</th><th>_c14</th><th>_c15</th><th>_c16</th><th>_c17</th><th>_c18</th><th>_c19</th><th>_c20</th><th>_c21</th><th>_c22</th><th>_c23</th><th>_c24</th><th>_c25</th><th>_c26</th><th>_c27</th><th>_c28</th><th>_c29</th><th>_c30</th><th>_c31</th><th>_c32</th><th>_c33</th><th>_c34</th><th>_c35</th><th>_c36</th></tr>\n",
       "<tr><td>count</td><td>18846</td><td>18847</td><td>18847</td><td>18847</td><td>18847</td><td>18847</td><td>18847</td><td>18847</td><td>18847</td><td>7543</td><td>18847</td><td>18847</td><td>18847</td><td>18847</td><td>18847</td><td>18847</td><td>9427</td><td>7543</td><td>7543</td><td>16963</td><td>8485</td><td>8485</td><td>18847</td><td>18847</td><td>18847</td><td>18847</td><td>18847</td><td>18847</td><td>15079</td><td>15079</td><td>15079</td><td>3769</td><td>18847</td><td>18847</td><td>18847</td><td>18847</td><td>18847</td></tr>\n",
       "<tr><td>mean</td><td>9422.5</td><td>1.7496833571139938</td><td>41.73578833831022</td><td>null</td><td>2009.5022285896212</td><td>211798.45250981642</td><td>null</td><td>null</td><td>1904.9704907672733</td><td>53.56642800318218</td><td>300.34759651915516</td><td>81.12913859705067</td><td>215.68673580600665</td><td>138.27554186564734</td><td>95.28503422476906</td><td>175.58867680144283</td><td>2685.885635476342</td><td>750.1617608061522</td><td>108.14691063378415</td><td>660.3448296191486</td><td>10390.008486562941</td><td>220.48385195662422</td><td>52.102302875941845</td><td>56.36750504085747</td><td>8362.930913721744</td><td>1192.735494799956</td><td>30.258513742969377</td><td>161.67141568502507</td><td>97053.67654861388</td><td>33991.35667860459</td><td>78548.66308528982</td><td>170417.73460721868</td><td>2357.920361402951</td><td>69.73618009126594</td><td>3938.540783667622</td><td>1.5279847182425972</td><td>556.9933277087964</td></tr>\n",
       "<tr><td>stddev</td><td>5440.515922226494</td><td>0.7871043760314783</td><td>0.4208746583175954</td><td>null</td><td>5.766949162934999</td><td>125124.55998437676</td><td>null</td><td>null</td><td>51902.136106834216</td><td>153.17549767633474</td><td>3050.487050485707</td><td>427.58679566569936</td><td>2045.4861739441208</td><td>1012.910711992243</td><td>605.1514557776107</td><td>1243.176738442318</td><td>18173.304620951923</td><td>2356.1515489364706</td><td>648.7590503621035</td><td>5976.136836946031</td><td>36927.65352504999</td><td>740.8188342523684</td><td>368.3525927992337</td><td>515.3350724672584</td><td>41817.65767669423</td><td>8613.75957444988</td><td>18.477830416746738</td><td>115.38615552112319</td><td>583300.1748149367</td><td>446108.45620370976</td><td>1020738.131496537</td><td>1209494.5125364142</td><td>17522.625114822207</td><td>18.483498128530172</td><td>27716.925682915153</td><td>0.6536049738985722</td><td>238.05703473308648</td></tr>\n",
       "<tr><td>min</td><td>0</td><td>0.25057195</td><td>40.5428638</td><td>POINT (0.25057195...</td><td>2000</td><td>170010.0</td><td>Abella de la Conca</td><td>Alt Camp</td><td>1.0</td><td>0.0</td><td>0.0</td><td>0.0</td><td>0.0</td><td>0.0</td><td>-0.14</td><td>0.0</td><td>0.0</td><td>0.0</td><td>0.0</td><td>0.0</td><td>0.0</td><td>0.0</td><td>0.0</td><td>0.0</td><td>0.0</td><td>0.0</td><td>0.0</td><td>0.0</td><td>0.0</td><td>0.0</td><td>0.0</td><td>0.0</td><td>0.0</td><td>0.0</td><td>0.0</td><td>0.0</td><td>0.0</td></tr>\n",
       "<tr><td>25%</td><td>4710.0</td><td>1.064357054</td><td>41.43006742</td><td>null</td><td>2004.0</td><td>82397.0</td><td>null</td><td>null</td><td>4.069</td><td>0.0</td><td>0.0</td><td>0.0</td><td>7.65</td><td>8.61</td><td>3.63</td><td>0.15</td><td>36.0</td><td>0.0</td><td>0.0</td><td>0.0</td><td>0.0</td><td>0.0</td><td>0.0</td><td>2.0</td><td>0.0</td><td>33.11</td><td>15.48</td><td>80.38</td><td>2014.0</td><td>0.0</td><td>0.0</td><td>6193.0</td><td>92.97</td><td>58.68</td><td>158.14</td><td>1.15</td><td>418.4</td></tr>\n",
       "<tr><td>50%</td><td>9420.0</td><td>1.736184762</td><td>41.71041342</td><td>null</td><td>2010.0</td><td>171766.0</td><td>null</td><td>null</td><td>104.0</td><td>0.0</td><td>9.14</td><td>0.0</td><td>22.25</td><td>22.55</td><td>11.88</td><td>7.33</td><td>189.0</td><td>27.0</td><td>3.0</td><td>0.0</td><td>113.0</td><td>9.0</td><td>2.0</td><td>5.0</td><td>17.0</td><td>109.83</td><td>27.48</td><td>139.15</td><td>11269.0</td><td>0.0</td><td>0.0</td><td>22128.0</td><td>266.0</td><td>72.49</td><td>446.7</td><td>1.37</td><td>498.07</td></tr>\n",
       "<tr><td>75%</td><td>14132.0</td><td>2.344137229</td><td>42.06615809</td><td>null</td><td>2015.0</td><td>252075.0</td><td>null</td><td>null</td><td>346.0</td><td>48.0</td><td>117.44</td><td>16.26</td><td>95.32</td><td>78.14</td><td>49.82</td><td>54.64</td><td>1142.0</td><td>364.0</td><td>41.0</td><td>48.0</td><td>3367.0</td><td>116.0</td><td>16.0</td><td>22.0</td><td>628.0</td><td>531.91</td><td>41.31</td><td>215.29</td><td>43727.0</td><td>0.0</td><td>0.0</td><td>79094.0</td><td>1018.05</td><td>84.51</td><td>1857.43</td><td>1.69</td><td>616.33</td></tr>\n",
       "<tr><td>max</td><td>9999</td><td>Longitud</td><td>Latitud</td><td>geometry</td><td>Any</td><td>Codi municipi</td><td>Òrrius</td><td>Vallès Oriental</td><td>Població</td><td>Autocompostatge</td><td>Matèria orgànica</td><td>Poda i jardineria</td><td>Paper i cartró</td><td>Vidre</td><td>Envasos lleugers</td><td>Residus voluminos...</td><td>RAEE</td><td>Ferralla</td><td>Olis vegetals</td><td>Tèxtil</td><td>Runes</td><td>Residus Especials...</td><td>Piles</td><td>Medicaments</td><td>Altres recollides...</td><td>Total Recollida S...</td><td>R.S. / R.M. % total</td><td>Kg/hab/any recoll...</td><td>Resta a Dipòsit</td><td>Resta a Incineració</td><td>Resta a Tractamen...</td><td>Resta (sense desg...</td><td>Suma Fracció Resta</td><td>F.R. / R.M. %</td><td>Generació Residus...</td><td>Kg / hab / dia</td><td>Kg / hab / any</td></tr>\n",
       "</table>\n"
      ],
      "text/plain": [
       "+-------+-----------------+------------------+------------------+--------------------+------------------+------------------+------------------+---------------+------------------+------------------+------------------+------------------+------------------+------------------+-----------------+--------------------+------------------+------------------+------------------+-----------------+------------------+--------------------+------------------+-----------------+--------------------+--------------------+-------------------+--------------------+-----------------+-------------------+--------------------+--------------------+------------------+------------------+--------------------+------------------+------------------+\n",
       "|summary|              _c0|               _c1|               _c2|                 _c3|               _c4|               _c5|               _c6|            _c7|               _c8|               _c9|              _c10|              _c11|              _c12|              _c13|             _c14|                _c15|              _c16|              _c17|              _c18|             _c19|              _c20|                _c21|              _c22|             _c23|                _c24|                _c25|               _c26|                _c27|             _c28|               _c29|                _c30|                _c31|              _c32|              _c33|                _c34|              _c35|              _c36|\n",
       "+-------+-----------------+------------------+------------------+--------------------+------------------+------------------+------------------+---------------+------------------+------------------+------------------+------------------+------------------+------------------+-----------------+--------------------+------------------+------------------+------------------+-----------------+------------------+--------------------+------------------+-----------------+--------------------+--------------------+-------------------+--------------------+-----------------+-------------------+--------------------+--------------------+------------------+------------------+--------------------+------------------+------------------+\n",
       "|  count|            18846|             18847|             18847|               18847|             18847|             18847|             18847|          18847|             18847|              7543|             18847|             18847|             18847|             18847|            18847|               18847|              9427|              7543|              7543|            16963|              8485|                8485|             18847|            18847|               18847|               18847|              18847|               18847|            15079|              15079|               15079|                3769|             18847|             18847|               18847|             18847|             18847|\n",
       "|   mean|           9422.5|1.7496833571139938| 41.73578833831022|                null|2009.5022285896212|211798.45250981642|              null|           null|1904.9704907672733| 53.56642800318218|300.34759651915516| 81.12913859705067|215.68673580600665|138.27554186564734|95.28503422476906|  175.58867680144283| 2685.885635476342| 750.1617608061522|108.14691063378415|660.3448296191486|10390.008486562941|  220.48385195662422|52.102302875941845|56.36750504085747|   8362.930913721744|   1192.735494799956| 30.258513742969377|  161.67141568502507|97053.67654861388|  33991.35667860459|   78548.66308528982|  170417.73460721868| 2357.920361402951| 69.73618009126594|   3938.540783667622|1.5279847182425972| 556.9933277087964|\n",
       "| stddev|5440.515922226494|0.7871043760314783|0.4208746583175954|                null| 5.766949162934999|125124.55998437676|              null|           null|51902.136106834216|153.17549767633474| 3050.487050485707|427.58679566569936|2045.4861739441208| 1012.910711992243|605.1514557776107|   1243.176738442318|18173.304620951923|2356.1515489364706| 648.7590503621035|5976.136836946031| 36927.65352504999|   740.8188342523684| 368.3525927992337|515.3350724672584|   41817.65767669423|    8613.75957444988| 18.477830416746738|  115.38615552112319|583300.1748149367| 446108.45620370976|   1020738.131496537|  1209494.5125364142|17522.625114822207|18.483498128530172|  27716.925682915153|0.6536049738985722|238.05703473308648|\n",
       "|    min|                0|        0.25057195|        40.5428638|POINT (0.25057195...|              2000|          170010.0|Abella de la Conca|       Alt Camp|               1.0|               0.0|               0.0|               0.0|               0.0|               0.0|            -0.14|                 0.0|               0.0|               0.0|               0.0|              0.0|               0.0|                 0.0|               0.0|              0.0|                 0.0|                 0.0|                0.0|                 0.0|              0.0|                0.0|                 0.0|                 0.0|               0.0|               0.0|                 0.0|               0.0|               0.0|\n",
       "|    25%|           4710.0|       1.064357054|       41.43006742|                null|            2004.0|           82397.0|              null|           null|             4.069|               0.0|               0.0|               0.0|              7.65|              8.61|             3.63|                0.15|              36.0|               0.0|               0.0|              0.0|               0.0|                 0.0|               0.0|              2.0|                 0.0|               33.11|              15.48|               80.38|           2014.0|                0.0|                 0.0|              6193.0|             92.97|             58.68|              158.14|              1.15|             418.4|\n",
       "|    50%|           9420.0|       1.736184762|       41.71041342|                null|            2010.0|          171766.0|              null|           null|             104.0|               0.0|              9.14|               0.0|             22.25|             22.55|            11.88|                7.33|             189.0|              27.0|               3.0|              0.0|             113.0|                 9.0|               2.0|              5.0|                17.0|              109.83|              27.48|              139.15|          11269.0|                0.0|                 0.0|             22128.0|             266.0|             72.49|               446.7|              1.37|            498.07|\n",
       "|    75%|          14132.0|       2.344137229|       42.06615809|                null|            2015.0|          252075.0|              null|           null|             346.0|              48.0|            117.44|             16.26|             95.32|             78.14|            49.82|               54.64|            1142.0|             364.0|              41.0|             48.0|            3367.0|               116.0|              16.0|             22.0|               628.0|              531.91|              41.31|              215.29|          43727.0|                0.0|                 0.0|             79094.0|           1018.05|             84.51|             1857.43|              1.69|            616.33|\n",
       "|    max|             9999|          Longitud|           Latitud|            geometry|               Any|     Codi municipi|            Òrrius|Vallès Oriental|          Població|   Autocompostatge|  Matèria orgànica| Poda i jardineria|    Paper i cartró|             Vidre| Envasos lleugers|Residus voluminos...|              RAEE|          Ferralla|     Olis vegetals|           Tèxtil|             Runes|Residus Especials...|             Piles|      Medicaments|Altres recollides...|Total Recollida S...|R.S. / R.M. % total|Kg/hab/any recoll...|  Resta a Dipòsit|Resta a Incineració|Resta a Tractamen...|Resta (sense desg...|Suma Fracció Resta|     F.R. / R.M. %|Generació Residus...|    Kg / hab / dia|    Kg / hab / any|\n",
       "+-------+-----------------+------------------+------------------+--------------------+------------------+------------------+------------------+---------------+------------------+------------------+------------------+------------------+------------------+------------------+-----------------+--------------------+------------------+------------------+------------------+-----------------+------------------+--------------------+------------------+-----------------+--------------------+--------------------+-------------------+--------------------+-----------------+-------------------+--------------------+--------------------+------------------+------------------+--------------------+------------------+------------------+"
      ]
     },
     "execution_count": 9,
     "metadata": {},
     "output_type": "execute_result"
    }
   ],
   "source": [
    "df.summary()"
   ]
  },
  {
   "cell_type": "markdown",
   "id": "e2bb07af",
   "metadata": {},
   "source": [
    "Ens interessa veure per quin motiu ho ha tants missing values a certs tipus de residus"
   ]
  },
  {
   "cell_type": "code",
   "execution_count": 48,
   "id": "70e600a9",
   "metadata": {},
   "outputs": [
    {
     "name": "stdout",
     "output_type": "stream",
     "text": [
      "(Any,21)\n"
     ]
    }
   ],
   "source": [
    "print(\"(\"+\"Any\"+\",\"+str(len(df.select(f.col(\"Any\")).groupBy(\"Any\").count().collect()))+\")\")"
   ]
  },
  {
   "cell_type": "code",
   "execution_count": 51,
   "id": "08be4253",
   "metadata": {
    "scrolled": false
   },
   "outputs": [
    {
     "name": "stdout",
     "output_type": "stream",
     "text": [
      "(Autocompostatge,0)\n",
      "(RAEE,0)\n",
      "(Ferralla,0)\n",
      "(Olis vegetals,0)\n",
      "(Runes,0)\n",
      "(Residus Especials en petites quantitats (REPQ,0)\n"
     ]
    }
   ],
   "source": [
    "columns = [\"Autocompostatge\", \"RAEE\", \"Ferralla\", \"Olis vegetals\", \"Runes\", \"Residus Especials en petites quantitats (REPQ\"]\n",
    "for column in columns:\n",
    "    print(\"(\"+column+\",\"+str(len(df.select(f.col(\"Any\"), f.col(column)).where(f.col(column) != None).groupBy(\"Any\").count().collect()))+\")\")"
   ]
  },
  {
   "cell_type": "code",
   "execution_count": 49,
   "id": "c9ae0401",
   "metadata": {},
   "outputs": [
    {
     "name": "stdout",
     "output_type": "stream",
     "text": [
      "(Municipi,951)\n"
     ]
    }
   ],
   "source": [
    "print(\"(\"+\"Municipi\"+\",\"+str(len(df.select(f.col(\"Municipi\")).groupBy(\"Municipi\").count().collect()))+\")\")"
   ]
  },
  {
   "cell_type": "code",
   "execution_count": 50,
   "id": "71a77afb",
   "metadata": {
    "scrolled": true
   },
   "outputs": [
    {
     "name": "stdout",
     "output_type": "stream",
     "text": [
      "(Autocompostatge,0)\n",
      "(RAEE,0)\n",
      "(Ferralla,0)\n",
      "(Olis vegetals,0)\n",
      "(Runes,0)\n",
      "(Residus Especials en petites quantitats (REPQ,0)\n"
     ]
    }
   ],
   "source": [
    "columns = [\"Autocompostatge\", \"RAEE\", \"Ferralla\", \"Olis vegetals\", \"Runes\", \"Residus Especials en petites quantitats (REPQ\"]\n",
    "for column in columns:\n",
    "    print(\"(\"+column+\",\"+str(len(df.select(f.col(\"Municipi\"), f.col(column)).where(f.col(column) != None).groupBy(\"Municipi\").count().collect()))+\")\")"
   ]
  },
  {
   "cell_type": "markdown",
   "id": "3cb5156e",
   "metadata": {},
   "source": []
  }
 ],
 "metadata": {
  "kernelspec": {
   "display_name": "Python 3 (ipykernel)",
   "language": "python",
   "name": "python3"
  },
  "language_info": {
   "codemirror_mode": {
    "name": "ipython",
    "version": 3
   },
   "file_extension": ".py",
   "mimetype": "text/x-python",
   "name": "python",
   "nbconvert_exporter": "python",
   "pygments_lexer": "ipython3",
   "version": "3.10.4"
  }
 },
 "nbformat": 4,
 "nbformat_minor": 5
}
