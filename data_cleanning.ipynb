{
 "cells": [
  {
   "cell_type": "markdown",
   "id": "52851ab2",
   "metadata": {},
   "source": [
    "# Estudi Residus Municipals Catalunya \n",
    "## Data Cleaning\n",
    "\n",
    "### Descripció\n",
    "En aquest seguit de llibretes es recull l'estudi realitzat sobre el dataset de residus municipals a Catalunya publicat per la generalitat al portal de dades obertes. La intenció es investigar aquestes dades amb la fi de trobar conclusions interessants i possibles aplicacions.\n",
    "\n",
    "En aquesta llibreta en concret es netegen les dades del dataset [Municipis Catalunya Geo](https://analisi.transparenciacatalunya.cat/Urbanisme-infraestructures/Municipis-Catalunya-Geo/9aju-tpwc) per a posteriorment ser enrriquides amb valors geografics i posteriorment realitzar un estudi sobre el territori que conforma Catalunya a nivell municipal.\n",
    "\n",
    "### Autors\n",
    "Joaquim Picó Mora, Marc Felip Pomes"
   ]
  },
  {
   "cell_type": "code",
   "execution_count": 4,
   "id": "3fa02716",
   "metadata": {},
   "outputs": [],
   "source": [
    "import pandas as pd\n",
    "from pyspark.sql import SparkSession\n",
    "import pyspark.sql.functions as f"
   ]
  },
  {
   "cell_type": "markdown",
   "id": "a048b124",
   "metadata": {},
   "source": [
    "### Lista de les primeres idees de cleening\n",
    "- Molts nulls: Es pot deixar perque al final només volem visualitzar o es poden ficar a 0\n",
    "    - Autocompostatge \n",
    "    - RAEE = Residus d'aparells electronics\n",
    "    - Ferralla\n",
    "    - Olis vegetals\n",
    "    - Runes\n",
    "    - Residus especials en petites quantitats\n",
    "- Resta\n",
    "    - Agrupar (Resta a Diposit + Resta a Incineració + Resta a tractament Mecànic Biològic) -> Resta (sense desglosar) "
   ]
  },
  {
   "cell_type": "code",
   "execution_count": 3,
   "id": "5cbd2fe0",
   "metadata": {},
   "outputs": [],
   "source": [
    "spark = (SparkSession\n",
    " .builder\n",
    " .appName(\"WasteCleaning\")\n",
    " .getOrCreate())"
   ]
  },
  {
   "cell_type": "code",
   "execution_count": 8,
   "id": "1b10b0c1",
   "metadata": {},
   "outputs": [],
   "source": [
    "spark.conf.set(\"spark.sql.repl.eagerEval.enabled\", True)"
   ]
  },
  {
   "cell_type": "code",
   "execution_count": 11,
   "id": "cfa51a34",
   "metadata": {},
   "outputs": [
    {
     "name": "stdout",
     "output_type": "stream",
     "text": [
      "-RECORD 0------------------------------------------------------\n",
      " Any                                           | null          \n",
      " Codi municipi                                 | Codi municipi \n",
      " Municipi                                      | Municipi      \n",
      " Comarca                                       | Comarca       \n",
      " Població                                      | null          \n",
      " Autocompostatge                               | null          \n",
      " Matèria orgànica                              | null          \n",
      " Poda i jardineria                             | null          \n",
      " Paper i cartró                                | null          \n",
      " Vidre                                         | null          \n",
      " Envasos lleugers                              | null          \n",
      " Residus voluminosos + fusta                   | null          \n",
      " RAEE                                          | null          \n",
      " Ferralla                                      | null          \n",
      " Olis vegetals                                 | null          \n",
      " Tèxtil                                        | null          \n",
      " Runes                                         | null          \n",
      " Residus Especials en petites quantitats (REPQ | null          \n",
      " Piles                                         | null          \n",
      " Medicaments                                   | null          \n",
      " Altres recollides selectives                  | null          \n",
      " R.S. / R.M. % total                           | null          \n",
      " Kg/hab/any recollida selectiva                | null          \n",
      " Resta a Dipòsit                               | null          \n",
      " Resta a Incineració                           | null          \n",
      " Resta a Tractament Mecànic Biològic           | null          \n",
      " Resta (sense desglossar)                      | null          \n",
      " Suma Fracció Resta                            | null          \n",
      " F.R. / R.M. %                                 | null          \n",
      " Generació Residus Municipal Totals            | null          \n",
      " Kg / hab / dia                                | null          \n",
      " Kg / hab / any                                | null          \n",
      "-RECORD 1------------------------------------------------------\n",
      " Any                                           | 2000          \n",
      " Codi municipi                                 | 430017        \n",
      " Municipi                                      | Aiguamúrcia   \n",
      " Comarca                                       | Alt Camp      \n",
      " Població                                      | 614.0         \n",
      " Autocompostatge                               | null          \n",
      " Matèria orgànica                              | 0.0           \n",
      " Poda i jardineria                             | 0.0           \n",
      " Paper i cartró                                | 12.51         \n",
      " Vidre                                         | 37.0          \n",
      " Envasos lleugers                              | 3.83          \n",
      " Residus voluminosos + fusta                   | 0.0           \n",
      " RAEE                                          | null          \n",
      " Ferralla                                      | null          \n",
      " Olis vegetals                                 | null          \n",
      " Tèxtil                                        | null          \n",
      " Runes                                         | null          \n",
      " Residus Especials en petites quantitats (REPQ | null          \n",
      " Piles                                         | 0.0           \n",
      " Medicaments                                   | 3.0           \n",
      " Altres recollides selectives                  | 0.0           \n",
      " R.S. / R.M. % total                           | 53.37         \n",
      " Kg/hab/any recollida selectiva                | 11.33         \n",
      " Resta a Dipòsit                               | 86.92         \n",
      " Resta a Incineració                           | null          \n",
      " Resta a Tractament Mecànic Biològic           | null          \n",
      " Resta (sense desglossar)                      | null          \n",
      " Suma Fracció Resta                            | 41761.0       \n",
      " F.R. / R.M. %                                 | 417.61        \n",
      " Generació Residus Municipal Totals            | 88.67         \n",
      " Kg / hab / dia                                | 470.98        \n",
      " Kg / hab / any                                | 2.1           \n",
      "-RECORD 2------------------------------------------------------\n",
      " Any                                           | 2000          \n",
      " Codi municipi                                 | 430056        \n",
      " Municipi                                      | Alcover       \n",
      " Comarca                                       | Alt Camp      \n",
      " Població                                      | 3.523         \n",
      " Autocompostatge                               | null          \n",
      " Matèria orgànica                              | 0.0           \n",
      " Poda i jardineria                             | 0.0           \n",
      " Paper i cartró                                | 79.44         \n",
      " Vidre                                         | 81.0          \n",
      " Envasos lleugers                              | 17.27         \n",
      " Residus voluminosos + fusta                   | 47.0          \n",
      " RAEE                                          | null          \n",
      " Ferralla                                      | null          \n",
      " Olis vegetals                                 | null          \n",
      " Tèxtil                                        | null          \n",
      " Runes                                         | null          \n",
      " Residus Especials en petites quantitats (REPQ | null          \n",
      " Piles                                         | 17.0          \n",
      " Medicaments                                   | 17.0          \n",
      " Altres recollides selectives                  | 4676.0        \n",
      " R.S. / R.M. % total                           | 271.81        \n",
      " Kg/hab/any recollida selectiva                | 16.86         \n",
      " Resta a Dipòsit                               | 77.15         \n",
      " Resta a Incineració                           | null          \n",
      " Resta a Tractament Mecànic Biològic           | null          \n",
      " Resta (sense desglossar)                      | null          \n",
      " Suma Fracció Resta                            | 134052.0      \n",
      " F.R. / R.M. %                                 | 1340.52       \n",
      " Generació Residus Municipal Totals            | 83.14         \n",
      " Kg / hab / dia                                | 1612.33       \n",
      " Kg / hab / any                                | 1.25          \n",
      "-RECORD 3------------------------------------------------------\n",
      " Any                                           | 2000          \n",
      " Codi municipi                                 | 430108        \n",
      " Municipi                                      | Alió          \n",
      " Comarca                                       | Alt Camp      \n",
      " Població                                      | 339.0         \n",
      " Autocompostatge                               | null          \n",
      " Matèria orgànica                              | 0.0           \n",
      " Poda i jardineria                             | 0.0           \n",
      " Paper i cartró                                | 4.63          \n",
      " Vidre                                         | 7.0           \n",
      " Envasos lleugers                              | 1.38          \n",
      " Residus voluminosos + fusta                   | 0.0           \n",
      " RAEE                                          | null          \n",
      " Ferralla                                      | null          \n",
      " Olis vegetals                                 | null          \n",
      " Tèxtil                                        | null          \n",
      " Runes                                         | null          \n",
      " Residus Especials en petites quantitats (REPQ | null          \n",
      " Piles                                         | 0.0           \n",
      " Medicaments                                   | 2.0           \n",
      " Altres recollides selectives                  | 0.0           \n",
      " R.S. / R.M. % total                           | 13.03         \n",
      " Kg/hab/any recollida selectiva                | 11.32         \n",
      " Resta a Dipòsit                               | 38.42         \n",
      " Resta a Incineració                           | null          \n",
      " Resta a Tractament Mecànic Biològic           | null          \n",
      " Resta (sense desglossar)                      | null          \n",
      " Suma Fracció Resta                            | 10204.0       \n",
      " F.R. / R.M. %                                 | 102.04        \n",
      " Generació Residus Municipal Totals            | 88.68         \n",
      " Kg / hab / dia                                | 115.07        \n",
      " Kg / hab / any                                | 0.93          \n",
      "-RECORD 4------------------------------------------------------\n",
      " Any                                           | 2000          \n",
      " Codi municipi                                 | 430347        \n",
      " Municipi                                      | Bràfim        \n",
      " Comarca                                       | Alt Camp      \n",
      " Població                                      | 569.0         \n",
      " Autocompostatge                               | null          \n",
      " Matèria orgànica                              | 0.0           \n",
      " Poda i jardineria                             | 0.0           \n",
      " Paper i cartró                                | 9.89          \n",
      " Vidre                                         | 11.0          \n",
      " Envasos lleugers                              | 2.57          \n",
      " Residus voluminosos + fusta                   | 0.0           \n",
      " RAEE                                          | null          \n",
      " Ferralla                                      | null          \n",
      " Olis vegetals                                 | null          \n",
      " Tèxtil                                        | null          \n",
      " Runes                                         | null          \n",
      " Residus Especials en petites quantitats (REPQ | null          \n",
      " Piles                                         | 0.0           \n",
      " Medicaments                                   | 3.0           \n",
      " Altres recollides selectives                  | 0.0           \n",
      " R.S. / R.M. % total                           | 23.49         \n",
      " Kg/hab/any recollida selectiva                | 7.97          \n",
      " Resta a Dipòsit                               | 41.28         \n",
      " Resta a Incineració                           | null          \n",
      " Resta a Tractament Mecànic Biològic           | null          \n",
      " Resta (sense desglossar)                      | null          \n",
      " Suma Fracció Resta                            | 27136.0       \n",
      " F.R. / R.M. %                                 | 271.36        \n",
      " Generació Residus Municipal Totals            | 92.03         \n",
      " Kg / hab / dia                                | 294.85        \n",
      " Kg / hab / any                                | 1.42          \n",
      "only showing top 5 rows\n",
      "\n"
     ]
    }
   ],
   "source": [
    "waste_file = \"./datasets/Estad_stiques_de_residus_municipals.csv\"\n",
    "schema_df = \"`Any` INT,\\\n",
    "            `Codi municipi` STRING,\\\n",
    "            `Municipi` STRING,\\\n",
    "            `Comarca` STRING,\\\n",
    "            `Població` FLOAT,\\\n",
    "            `Autocompostatge` FLOAT,\\\n",
    "            `Matèria orgànica` FLOAT,\\\n",
    "            `Poda i jardineria` FLOAT,\\\n",
    "            `Paper i cartró` FLOAT,\\\n",
    "            `Vidre` FLOAT,\\\n",
    "            `Envasos lleugers` FLOAT,\\\n",
    "            `Residus voluminosos + fusta` FLOAT,\\\n",
    "            `RAEE` FLOAT,\\\n",
    "            `Ferralla` FLOAT,\\\n",
    "            `Olis vegetals` FLOAT,\\\n",
    "            `Tèxtil` FLOAT,\\\n",
    "            `Runes` FLOAT,\\\n",
    "            `Residus Especials en petites quantitats (REPQ` FLOAT,\\\n",
    "            `Piles` FLOAT,\\\n",
    "            `Medicaments` FLOAT,\\\n",
    "            `Altres recollides selectives` FLOAT,\\\n",
    "            `R.S. / R.M. % total` FLOAT,\\\n",
    "            `Kg/hab/any recollida selectiva` FLOAT,\\\n",
    "            `Resta a Dipòsit` FLOAT,\\\n",
    "            `Resta a Incineració` FLOAT,\\\n",
    "            `Resta a Tractament Mecànic Biològic` FLOAT,\\\n",
    "            `Resta (sense desglossar)` FLOAT,\\\n",
    "            `Suma Fracció Resta` FLOAT,\\\n",
    "            `F.R. / R.M. %` FLOAT,\\\n",
    "            `Generació Residus Municipal Totals` FLOAT,\\\n",
    "            `Kg / hab / dia` FLOAT,\\\n",
    "            `Kg / hab / any` FLOAT\"\n",
    "df = spark.read.schema(schema_df).csv(waste_file)\n",
    "df.show(n=5, truncate=False, vertical=True)"
   ]
  },
  {
   "cell_type": "code",
   "execution_count": 16,
   "id": "905c5081",
   "metadata": {
    "scrolled": false
   },
   "outputs": [
    {
     "name": "stderr",
     "output_type": "stream",
     "text": [
      "                                                                                                                               \r"
     ]
    },
    {
     "data": {
      "text/html": [
       "<table border='1'>\n",
       "<tr><th>summary</th><th>Any</th><th>Codi municipi</th><th>Municipi</th><th>Comarca</th><th>Població</th><th>Autocompostatge</th><th>Matèria orgànica</th><th>Poda i jardineria</th><th>Paper i cartró</th><th>Vidre</th><th>Envasos lleugers</th><th>Residus voluminosos + fusta</th><th>RAEE</th><th>Ferralla</th><th>Olis vegetals</th><th>Tèxtil</th><th>Runes</th><th>Residus Especials en petites quantitats (REPQ</th><th>Piles</th><th>Medicaments</th><th>Altres recollides selectives</th><th>R.S. / R.M. % total</th><th>Kg/hab/any recollida selectiva</th><th>Resta a Dipòsit</th><th>Resta a Incineració</th><th>Resta a Tractament Mecànic Biològic</th><th>Resta (sense desglossar)</th><th>Suma Fracció Resta</th><th>F.R. / R.M. %</th><th>Generació Residus Municipal Totals</th><th>Kg / hab / dia</th><th>Kg / hab / any</th></tr>\n",
       "<tr><td>count</td><td>18947</td><td>18948</td><td>18948</td><td>18948</td><td>18947</td><td>7583</td><td>18947</td><td>18947</td><td>18947</td><td>18947</td><td>18947</td><td>18947</td><td>9477</td><td>7583</td><td>7583</td><td>17053</td><td>8530</td><td>8530</td><td>18939</td><td>18939</td><td>18941</td><td>18947</td><td>18947</td><td>18947</td><td>15159</td><td>15159</td><td>15159</td><td>3788</td><td>18947</td><td>18947</td><td>18947</td><td>18947</td></tr>\n",
       "<tr><td>mean</td><td>2009.5025597719955</td><td>211801.60728060442</td><td>null</td><td>null</td><td>1895.2873782033485</td><td>53.99854938678623</td><td>302.03608026951923</td><td>81.73821575453286</td><td>280.20880592826256</td><td>155.34687719001306</td><td>101.16649436068181</td><td>175.7145233874296</td><td>2776.366149625409</td><td>755.4793617301859</td><td>108.01450613213768</td><td>753.5698704040345</td><td>10429.165767878078</td><td>220.73950762016412</td><td>52.06980305190348</td><td>56.316700987380536</td><td>8380.519930309909</td><td>1306.4052432606702</td><td>30.232050465363066</td><td>161.78077163008007</td><td>97617.44290520482</td><td>33832.80836466786</td><td>78282.35945642853</td><td>171186.04567053853</td><td>2362.8534898082075</td><td>69.6571140595509</td><td>4055.2748115461295</td><td>1.52866522373916</td></tr>\n",
       "<tr><td>stddev</td><td>5.76698664879997</td><td>125148.35428417475</td><td>null</td><td>null</td><td>51763.77802845096</td><td>153.66644831896883</td><td>3044.1352406414353</td><td>427.15700050310073</td><td>3659.6148645973544</td><td>1272.1979501894466</td><td>676.6865539597111</td><td>1239.9804421985236</td><td>19865.676319539198</td><td>2356.7832223221712</td><td>647.0445255900547</td><td>11059.452695505073</td><td>36868.55092180463</td><td>739.2123576764532</td><td>367.4630386695721</td><td>514.0797662252572</td><td>41737.07304731374</td><td>9736.829191720928</td><td>18.475453545301956</td><td>115.43738932153718</td><td>582131.1789086811</td><td>444922.2039185221</td><td>1018037.1097066668</td><td>1206595.4347514228</td><td>17477.475931780766</td><td>18.593340484707433</td><td>28010.944305577945</td><td>0.6567984435615438</td></tr>\n",
       "<tr><td>min</td><td>2000</td><td>170010</td><td>Abella de la Conca</td><td>Alt Camp</td><td>0.0</td><td>0.0</td><td>0.0</td><td>0.0</td><td>0.0</td><td>0.0</td><td>-0.14</td><td>0.0</td><td>0.0</td><td>0.0</td><td>0.0</td><td>0.0</td><td>0.0</td><td>0.0</td><td>0.0</td><td>0.0</td><td>0.0</td><td>0.0</td><td>0.0</td><td>0.0</td><td>0.0</td><td>0.0</td><td>0.0</td><td>0.0</td><td>0.0</td><td>0.0</td><td>0.0</td><td>0.0</td></tr>\n",
       "<tr><td>25%</td><td>2004</td><td>82397.0</td><td>null</td><td>null</td><td>4.069</td><td>0.0</td><td>0.0</td><td>0.0</td><td>7.7</td><td>8.63</td><td>3.65</td><td>0.15</td><td>36.0</td><td>0.0</td><td>0.0</td><td>0.0</td><td>0.0</td><td>0.0</td><td>0.0</td><td>2.0</td><td>0.0</td><td>33.28</td><td>15.47</td><td>80.33</td><td>2006.0</td><td>0.0</td><td>0.0</td><td>6193.0</td><td>92.99</td><td>58.63</td><td>158.72</td><td>1.15</td></tr>\n",
       "<tr><td>50%</td><td>2010</td><td>171753.0</td><td>null</td><td>null</td><td>103.0</td><td>0.0</td><td>9.18</td><td>0.0</td><td>22.4</td><td>22.69</td><td>12.01</td><td>7.35</td><td>191.0</td><td>28.0</td><td>3.0</td><td>0.0</td><td>114.0</td><td>9.0</td><td>2.0</td><td>5.0</td><td>17.0</td><td>110.46</td><td>27.49</td><td>139.42</td><td>11315.0</td><td>0.0</td><td>0.0</td><td>22206.0</td><td>266.4</td><td>72.45</td><td>449.17</td><td>1.37</td></tr>\n",
       "<tr><td>75%</td><td>2015</td><td>252075.0</td><td>null</td><td>null</td><td>346.0</td><td>48.0</td><td>118.62</td><td>16.8</td><td>97.27</td><td>79.27</td><td>50.35</td><td>55.44</td><td>1165.0</td><td>368.0</td><td>42.0</td><td>48.0</td><td>3428.0</td><td>118.0</td><td>16.0</td><td>22.0</td><td>637.0</td><td>544.34</td><td>41.29</td><td>215.72</td><td>43954.0</td><td>0.0</td><td>0.0</td><td>80627.0</td><td>1029.88</td><td>84.47</td><td>1909.16</td><td>1.69</td></tr>\n",
       "<tr><td>max</td><td>2019</td><td>NA</td><td>Òrrius</td><td>Vallès Oriental</td><td>1636762.0</td><td>2764.0</td><td>128393.62</td><td>13457.29</td><td>176871.4</td><td>51232.54</td><td>25792.81</td><td>51485.3</td><td>793821.0</td><td>54487.0</td><td>23654.0</td><td>1103352.0</td><td>774636.0</td><td>22512.0</td><td>15071.0</td><td>27069.0</td><td>1416622.0</td><td>327502.88</td><td>100.0</td><td>2187.45</td><td>3.4422736E7</td><td>2.2374082E7</td><td>4.506766E7</td><td>6.667544E7</td><td>688440.44</td><td>100.0</td><td>902356.2</td><td>8.72</td></tr>\n",
       "</table>\n"
      ],
      "text/plain": [
       "+-------+------------------+------------------+------------------+---------------+------------------+------------------+------------------+------------------+------------------+------------------+------------------+---------------------------+------------------+------------------+------------------+------------------+------------------+---------------------------------------------+-----------------+------------------+----------------------------+-------------------+------------------------------+------------------+-------------------+-----------------------------------+------------------------+------------------+------------------+----------------------------------+------------------+------------------+\n",
       "|summary|               Any|     Codi municipi|          Municipi|        Comarca|          Població|   Autocompostatge|  Matèria orgànica| Poda i jardineria|    Paper i cartró|             Vidre|  Envasos lleugers|Residus voluminosos + fusta|              RAEE|          Ferralla|     Olis vegetals|            Tèxtil|             Runes|Residus Especials en petites quantitats (REPQ|            Piles|       Medicaments|Altres recollides selectives|R.S. / R.M. % total|Kg/hab/any recollida selectiva|   Resta a Dipòsit|Resta a Incineració|Resta a Tractament Mecànic Biològic|Resta (sense desglossar)|Suma Fracció Resta|     F.R. / R.M. %|Generació Residus Municipal Totals|    Kg / hab / dia|    Kg / hab / any|\n",
       "+-------+------------------+------------------+------------------+---------------+------------------+------------------+------------------+------------------+------------------+------------------+------------------+---------------------------+------------------+------------------+------------------+------------------+------------------+---------------------------------------------+-----------------+------------------+----------------------------+-------------------+------------------------------+------------------+-------------------+-----------------------------------+------------------------+------------------+------------------+----------------------------------+------------------+------------------+\n",
       "|  count|             18947|             18948|             18948|          18948|             18947|              7583|             18947|             18947|             18947|             18947|             18947|                      18947|              9477|              7583|              7583|             17053|              8530|                                         8530|            18939|             18939|                       18941|              18947|                         18947|             18947|              15159|                              15159|                   15159|              3788|             18947|                             18947|             18947|             18947|\n",
       "|   mean|2009.5025597719955|211801.60728060442|              null|           null|1895.2873782033485| 53.99854938678623|302.03608026951923| 81.73821575453286|280.20880592826256|155.34687719001306|101.16649436068181|          175.7145233874296| 2776.366149625409| 755.4793617301859|108.01450613213768| 753.5698704040345|10429.165767878078|                           220.73950762016412|52.06980305190348|56.316700987380536|           8380.519930309909| 1306.4052432606702|            30.232050465363066|161.78077163008007|  97617.44290520482|                  33832.80836466786|       78282.35945642853|171186.04567053853|2362.8534898082075|                  69.6571140595509|4055.2748115461295|  1.52866522373916|\n",
       "| stddev|  5.76698664879997|125148.35428417475|              null|           null| 51763.77802845096|153.66644831896883|3044.1352406414353|427.15700050310073|3659.6148645973544|1272.1979501894466| 676.6865539597111|         1239.9804421985236|19865.676319539198|2356.7832223221712| 647.0445255900547|11059.452695505073| 36868.55092180463|                            739.2123576764532|367.4630386695721| 514.0797662252572|           41737.07304731374|  9736.829191720928|            18.475453545301956|115.43738932153718|  582131.1789086811|                  444922.2039185221|      1018037.1097066668|1206595.4347514228|17477.475931780766|                18.593340484707433|28010.944305577945|0.6567984435615438|\n",
       "|    min|              2000|            170010|Abella de la Conca|       Alt Camp|               0.0|               0.0|               0.0|               0.0|               0.0|               0.0|             -0.14|                        0.0|               0.0|               0.0|               0.0|               0.0|               0.0|                                          0.0|              0.0|               0.0|                         0.0|                0.0|                           0.0|               0.0|                0.0|                                0.0|                     0.0|               0.0|               0.0|                               0.0|               0.0|               0.0|\n",
       "|    25%|              2004|           82397.0|              null|           null|             4.069|               0.0|               0.0|               0.0|               7.7|              8.63|              3.65|                       0.15|              36.0|               0.0|               0.0|               0.0|               0.0|                                          0.0|              0.0|               2.0|                         0.0|              33.28|                         15.47|             80.33|             2006.0|                                0.0|                     0.0|            6193.0|             92.99|                             58.63|            158.72|              1.15|\n",
       "|    50%|              2010|          171753.0|              null|           null|             103.0|               0.0|              9.18|               0.0|              22.4|             22.69|             12.01|                       7.35|             191.0|              28.0|               3.0|               0.0|             114.0|                                          9.0|              2.0|               5.0|                        17.0|             110.46|                         27.49|            139.42|            11315.0|                                0.0|                     0.0|           22206.0|             266.4|                             72.45|            449.17|              1.37|\n",
       "|    75%|              2015|          252075.0|              null|           null|             346.0|              48.0|            118.62|              16.8|             97.27|             79.27|             50.35|                      55.44|            1165.0|             368.0|              42.0|              48.0|            3428.0|                                        118.0|             16.0|              22.0|                       637.0|             544.34|                         41.29|            215.72|            43954.0|                                0.0|                     0.0|           80627.0|           1029.88|                             84.47|           1909.16|              1.69|\n",
       "|    max|              2019|                NA|            Òrrius|Vallès Oriental|         1636762.0|            2764.0|         128393.62|          13457.29|          176871.4|          51232.54|          25792.81|                    51485.3|          793821.0|           54487.0|           23654.0|         1103352.0|          774636.0|                                      22512.0|          15071.0|           27069.0|                   1416622.0|          327502.88|                         100.0|           2187.45|        3.4422736E7|                        2.2374082E7|              4.506766E7|        6.667544E7|         688440.44|                             100.0|          902356.2|              8.72|\n",
       "+-------+------------------+------------------+------------------+---------------+------------------+------------------+------------------+------------------+------------------+------------------+------------------+---------------------------+------------------+------------------+------------------+------------------+------------------+---------------------------------------------+-----------------+------------------+----------------------------+-------------------+------------------------------+------------------+-------------------+-----------------------------------+------------------------+------------------+------------------+----------------------------------+------------------+------------------+"
      ]
     },
     "execution_count": 16,
     "metadata": {},
     "output_type": "execute_result"
    }
   ],
   "source": [
    "df.summary()"
   ]
  },
  {
   "cell_type": "markdown",
   "id": "e2bb07af",
   "metadata": {},
   "source": [
    "Ens interessa veure per quin motiu ho ha tants missing values a certs tipus de residus"
   ]
  },
  {
   "cell_type": "code",
   "execution_count": 48,
   "id": "70e600a9",
   "metadata": {},
   "outputs": [
    {
     "name": "stdout",
     "output_type": "stream",
     "text": [
      "(Any,21)\n"
     ]
    }
   ],
   "source": [
    "print(\"(\"+\"Any\"+\",\"+str(len(df.select(f.col(\"Any\")).groupBy(\"Any\").count().collect()))+\")\")"
   ]
  },
  {
   "cell_type": "code",
   "execution_count": 51,
   "id": "08be4253",
   "metadata": {
    "scrolled": false
   },
   "outputs": [
    {
     "name": "stdout",
     "output_type": "stream",
     "text": [
      "(Autocompostatge,0)\n",
      "(RAEE,0)\n",
      "(Ferralla,0)\n",
      "(Olis vegetals,0)\n",
      "(Runes,0)\n",
      "(Residus Especials en petites quantitats (REPQ,0)\n"
     ]
    }
   ],
   "source": [
    "columns = [\"Autocompostatge\", \"RAEE\", \"Ferralla\", \"Olis vegetals\", \"Runes\", \"Residus Especials en petites quantitats (REPQ\"]\n",
    "for column in columns:\n",
    "    print(\"(\"+column+\",\"+str(len(df.select(f.col(\"Any\"), f.col(column)).where(f.col(column) != None).groupBy(\"Any\").count().collect()))+\")\")"
   ]
  },
  {
   "cell_type": "code",
   "execution_count": 49,
   "id": "c9ae0401",
   "metadata": {},
   "outputs": [
    {
     "name": "stdout",
     "output_type": "stream",
     "text": [
      "(Municipi,951)\n"
     ]
    }
   ],
   "source": [
    "print(\"(\"+\"Municipi\"+\",\"+str(len(df.select(f.col(\"Municipi\")).groupBy(\"Municipi\").count().collect()))+\")\")"
   ]
  },
  {
   "cell_type": "code",
   "execution_count": 50,
   "id": "71a77afb",
   "metadata": {
    "scrolled": true
   },
   "outputs": [
    {
     "name": "stdout",
     "output_type": "stream",
     "text": [
      "(Autocompostatge,0)\n",
      "(RAEE,0)\n",
      "(Ferralla,0)\n",
      "(Olis vegetals,0)\n",
      "(Runes,0)\n",
      "(Residus Especials en petites quantitats (REPQ,0)\n"
     ]
    }
   ],
   "source": [
    "columns = [\"Autocompostatge\", \"RAEE\", \"Ferralla\", \"Olis vegetals\", \"Runes\", \"Residus Especials en petites quantitats (REPQ\"]\n",
    "for column in columns:\n",
    "    print(\"(\"+column+\",\"+str(len(df.select(f.col(\"Municipi\"), f.col(column)).where(f.col(column) != None).groupBy(\"Municipi\").count().collect()))+\")\")"
   ]
  },
  {
   "cell_type": "markdown",
   "id": "3cb5156e",
   "metadata": {},
   "source": []
  }
 ],
 "metadata": {
  "kernelspec": {
   "display_name": "Python 3 (ipykernel)",
   "language": "python",
   "name": "python3"
  },
  "language_info": {
   "codemirror_mode": {
    "name": "ipython",
    "version": 3
   },
   "file_extension": ".py",
   "mimetype": "text/x-python",
   "name": "python",
   "nbconvert_exporter": "python",
   "pygments_lexer": "ipython3",
   "version": "3.10.4"
  }
 },
 "nbformat": 4,
 "nbformat_minor": 5
}
